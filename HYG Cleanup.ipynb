{
 "cells": [
  {
   "cell_type": "code",
   "execution_count": 47,
   "metadata": {},
   "outputs": [],
   "source": [
    "import pandas as pd\n",
    "import numpy as np\n",
    "import matplotlib as plt\n",
    "%matplotlib inline"
   ]
  },
  {
   "cell_type": "markdown",
   "metadata": {},
   "source": [
    "## Read in the data"
   ]
  },
  {
   "cell_type": "code",
   "execution_count": 59,
   "metadata": {},
   "outputs": [],
   "source": [
    "hyg = pd.read_csv(\"hygdata_v3.csv\")"
   ]
  },
  {
   "cell_type": "markdown",
   "metadata": {},
   "source": [
    "#### Identify the column names\n",
    "Some of these column names are ambiguous, and some we wont use.  Let's first rename them so we know what we're talking about!"
   ]
  },
  {
   "cell_type": "code",
   "execution_count": 60,
   "metadata": {
    "scrolled": true
   },
   "outputs": [
    {
     "name": "stdout",
     "output_type": "stream",
     "text": [
      "['id', 'hip', 'hd', 'hr', 'gl', 'bf', 'proper', 'ra', 'dec', 'dist', 'pmra', 'pmdec', 'rv', 'mag', 'absmag', 'spect', 'ci', 'x', 'y', 'z', 'vx', 'vy', 'vz', 'rarad', 'decrad', 'pmrarad', 'pmdecrad', 'bayer', 'flam', 'con', 'comp', 'comp_primary', 'base', 'lum', 'var', 'var_min', 'var_max']\n"
     ]
    }
   ],
   "source": [
    "# List out the column names\n",
    "print(list(hyg))"
   ]
  },
  {
   "cell_type": "code",
   "execution_count": 61,
   "metadata": {},
   "outputs": [],
   "source": [
    "# Make a new list with more intuitive names\n",
    "new_names = [\"ID\", \"HipparcosID\", \"HenryDraperID\", \"HarvardRevisedID\", \"GlieseID\", \"BayerFlamsteed\", \"ProperName\", \n",
    "             \"RA\", \"Dec\", \"Distance\", \"ProperMotion(RA)\", \"ProperMotion(Dec)\", \"RadialVelocity\", \"Magnitude\",\n",
    "             \"AbsoluteMagnitude\", \"SpectralType\", \"ColorIndex\", \"X\", \"Y\", \"Z\", \"Vx\", \"Vy\", \"Vz\", \"RA(radians)\",\n",
    "             \"Dec(radians)\", \"ProperMotionRA(radians)\", \"ProperMotionDec(radians)\", \"BayerDesignation\",\n",
    "             \"FlamsteedNumber\", \"Constellation\", \"CompanionID\", \"PrimaryCompanion\", \"BaseName\", \"Luminosity\",\n",
    "             \"VariableStarID\", \"VariableMinMagnitude\", \"VariableMaxMagnitude\"]\n",
    "hyg.columns = new_names"
   ]
  },
  {
   "cell_type": "markdown",
   "metadata": {},
   "source": [
    "#### Understanding the column names\n",
    "So what does it all mean?  Not everyone has an undergraduate degree in astrophysics you know!  Here is a description of the column attributes formatted from [astronexus' GitHub repository](https://github.com/astronexus/HYG-Database):\n",
    "\n",
    "- **ID:** The database primary key.  \n",
    "- **HipparcosID:** The star's ID in the Hipparcos catalog, if known.  \n",
    "- **HenryDraperID:** The star's ID in the Henry Draper catalog, if known.  \n",
    "- **HarvardRevisedID:** The star's ID in the Harvard Revised catalog, which is the same as its number in the Yale Bright Star Catalog.  \n",
    "- **GlieseID:** The star's ID in the third edition of the Gliese Catalog of Nearby Stars.  \n",
    "- **BayerFlamsteed:** The Bayer / Flamsteed designation, primarily from the Fifth Edition of the Yale Bright Star Catalog. This is a combination of the Bayer designation and Flamsteed number.  The Flamsteed number, if present, is given first; then a three-letter abbreviation for the Bayer Greek letter; the Bayer superscript number, if present; and finally, the three-letter constellation abbreviation. Thus Alpha Andromedae has the field value \"21Alp And\", and Kappa1 Sculptoris (no Flamsteed number) has \"Kap1Scl\".    \n",
    "- **ProperName:** A common name for the star, such as \"Barnard's Star\" or \"Sirius\" taken primarily from the Hipparcos project's web site, which lists representative names for the 150 brightest stars and many of the 150 closest stars. A few names have been added to this list from catalogs mostly now forgotten (e.g., Lalande, Groombridge, and Gould [\"G.\"]) except for certain nearby stars which are still best known by these designations.  \n",
    "- **RA, Dec:** The star's right ascension and declination, for epoch and equinox 2000.0.\n",
    "- **Distance:** The star's distance in parsecs, the most common unit in astrometry. To convert parsecs to light years, multiply by 3.262. A value >= 100000 indicates missing or dubious (e.g., negative) parallax data in Hipparcos.  \n",
    "- **ProperMotion(RA), ProperMotion(Dec):** The star's proper motion in right ascension and declination, in milliarcseconds per year.  \n",
    "- **RadialVelocity:** The star's radial velocity in km/sec, where known.  \n",
    "- **Magnitude:** The star's apparent visual magnitude.  \n",
    "- **AbsoluteMagnitude:** The star's absolute visual magnitude (its apparent magnitude from a distance of 10 parsecs).  \n",
    "- **SpectralType:** The star's spectral type, if known.  \n",
    "- **ColorIndex:** The star's color index (blue magnitude - visual magnitude), where known.  \n",
    "- **X, Y, Z:** The Cartesian coordinates of the star, in a system based on the equatorial coordinates as seen from Earth. +X is in the direction of the vernal equinox (at epoch 2000), +Z towards the north celestial pole, and +Y in the direction of R.A. 6 hours, declination 0 degrees.  \n",
    "- **Vx, Vy, Vz:** The Cartesian velocity components of the star, in the same coordinate system described immediately above. They are determined from the proper motion and the radial velocity (when known). The velocity unit is parsecs per year.  These are small values (around 1 millionth of a parsec per year)!.  \n",
    "- **RA(radians), Dec(radians), ProperMotionRA(radians), ProperMotionDec(radians):** The positions in radians, and proper motions in radians per year.  \n",
    "- **BayerDesignation:** The Bayer designation as a distinct value.  \n",
    "- **FlamsteedNumber:** The Flamsteed number as a distinct value.  \n",
    "- **Constellation:** The standard constellation abbreviation.  We should create a table that spells out the full constellation name, number of stars within, and location in the sky that is mapped to this abbreviation.\n",
    "- **CompanionID, PrimaryCompanion, BaseName:** Identifies a star in a multiple star system. CompanionID = ID of companion star, PrimaryCompanion = ID of primary star for this component, and BaseName = catalog ID or name for this multi-star system. Currently only used for Gliese stars.  \n",
    "- **Luminosity:** Star's luminosity as a multiple of Solar luminosity.  \n",
    "- **VariableStarID:** Star's standard variable star designation, when known.  \n",
    "- **VariableMinMagnitude, VariableMaxMagnitude:** Star's approximate magnitude range, for variables. This value is based on the Hp magnitudes for the range in the original Hipparcos catalog, adjusted to the V magnitude scale to match the \"Magnitude\" field.  "
   ]
  },
  {
   "cell_type": "markdown",
   "metadata": {},
   "source": [
    "#### Remove some data\n",
    "There's a bunch of observations near the end that don't have a HipparcosID or very limited data overall.  Let's remove anything where there's no HipparcosID except for the first obervation (for the sun!)."
   ]
  },
  {
   "cell_type": "code",
   "execution_count": 62,
   "metadata": {
    "scrolled": true
   },
   "outputs": [],
   "source": [
    "hipparcos_null = np.where(hyg[\"HipparcosID\"].isnull()==True)\n",
    "hipparcos_null = list(hipparcos_null[0][1:])  # Observation 0 is the sun, that's why we start at 1.\n",
    "hyg = hyg.drop(hipparcos_null, axis = 0)"
   ]
  },
  {
   "cell_type": "markdown",
   "metadata": {},
   "source": [
    "#### Export a new .csv\n",
    "Now that everything is much more readable, let's write a new .csv to work with"
   ]
  },
  {
   "cell_type": "code",
   "execution_count": 66,
   "metadata": {},
   "outputs": [
    {
     "ename": "PermissionError",
     "evalue": "[Errno 13] Permission denied",
     "output_type": "error",
     "traceback": [
      "\u001b[1;31m---------------------------------------------------------------------------\u001b[0m",
      "\u001b[1;31mPermissionError\u001b[0m                           Traceback (most recent call last)",
      "\u001b[1;32m<ipython-input-66-9806584f78a0>\u001b[0m in \u001b[0;36m<module>\u001b[1;34m\u001b[0m\n\u001b[1;32m----> 1\u001b[1;33m \u001b[0mhyg\u001b[0m\u001b[1;33m.\u001b[0m\u001b[0mto_csv\u001b[0m\u001b[1;33m(\u001b[0m\u001b[1;34m\"hygClean.csv\"\u001b[0m\u001b[1;33m)\u001b[0m\u001b[1;33m\u001b[0m\u001b[0m\n\u001b[0m",
      "\u001b[1;32mc:\\program files\\python36\\lib\\site-packages\\pandas\\core\\frame.py\u001b[0m in \u001b[0;36mto_csv\u001b[1;34m(self, path_or_buf, sep, na_rep, float_format, columns, header, index, index_label, mode, encoding, compression, quoting, quotechar, line_terminator, chunksize, tupleize_cols, date_format, doublequote, escapechar, decimal)\u001b[0m\n\u001b[0;32m   1522\u001b[0m                                      \u001b[0mdoublequote\u001b[0m\u001b[1;33m=\u001b[0m\u001b[0mdoublequote\u001b[0m\u001b[1;33m,\u001b[0m\u001b[1;33m\u001b[0m\u001b[0m\n\u001b[0;32m   1523\u001b[0m                                      escapechar=escapechar, decimal=decimal)\n\u001b[1;32m-> 1524\u001b[1;33m         \u001b[0mformatter\u001b[0m\u001b[1;33m.\u001b[0m\u001b[0msave\u001b[0m\u001b[1;33m(\u001b[0m\u001b[1;33m)\u001b[0m\u001b[1;33m\u001b[0m\u001b[0m\n\u001b[0m\u001b[0;32m   1525\u001b[0m \u001b[1;33m\u001b[0m\u001b[0m\n\u001b[0;32m   1526\u001b[0m         \u001b[1;32mif\u001b[0m \u001b[0mpath_or_buf\u001b[0m \u001b[1;32mis\u001b[0m \u001b[1;32mNone\u001b[0m\u001b[1;33m:\u001b[0m\u001b[1;33m\u001b[0m\u001b[0m\n",
      "\u001b[1;32mc:\\program files\\python36\\lib\\site-packages\\pandas\\io\\formats\\format.py\u001b[0m in \u001b[0;36msave\u001b[1;34m(self)\u001b[0m\n\u001b[0;32m   1650\u001b[0m                 \u001b[0mself\u001b[0m\u001b[1;33m.\u001b[0m\u001b[0mwriter\u001b[0m \u001b[1;33m=\u001b[0m \u001b[0mUnicodeWriter\u001b[0m\u001b[1;33m(\u001b[0m\u001b[0mf\u001b[0m\u001b[1;33m,\u001b[0m \u001b[1;33m**\u001b[0m\u001b[0mwriter_kwargs\u001b[0m\u001b[1;33m)\u001b[0m\u001b[1;33m\u001b[0m\u001b[0m\n\u001b[0;32m   1651\u001b[0m \u001b[1;33m\u001b[0m\u001b[0m\n\u001b[1;32m-> 1652\u001b[1;33m             \u001b[0mself\u001b[0m\u001b[1;33m.\u001b[0m\u001b[0m_save\u001b[0m\u001b[1;33m(\u001b[0m\u001b[1;33m)\u001b[0m\u001b[1;33m\u001b[0m\u001b[0m\n\u001b[0m\u001b[0;32m   1653\u001b[0m \u001b[1;33m\u001b[0m\u001b[0m\n\u001b[0;32m   1654\u001b[0m         \u001b[1;32mfinally\u001b[0m\u001b[1;33m:\u001b[0m\u001b[1;33m\u001b[0m\u001b[0m\n",
      "\u001b[1;32mc:\\program files\\python36\\lib\\site-packages\\pandas\\io\\formats\\format.py\u001b[0m in \u001b[0;36m_save\u001b[1;34m(self)\u001b[0m\n\u001b[0;32m   1752\u001b[0m                 \u001b[1;32mbreak\u001b[0m\u001b[1;33m\u001b[0m\u001b[0m\n\u001b[0;32m   1753\u001b[0m \u001b[1;33m\u001b[0m\u001b[0m\n\u001b[1;32m-> 1754\u001b[1;33m             \u001b[0mself\u001b[0m\u001b[1;33m.\u001b[0m\u001b[0m_save_chunk\u001b[0m\u001b[1;33m(\u001b[0m\u001b[0mstart_i\u001b[0m\u001b[1;33m,\u001b[0m \u001b[0mend_i\u001b[0m\u001b[1;33m)\u001b[0m\u001b[1;33m\u001b[0m\u001b[0m\n\u001b[0m\u001b[0;32m   1755\u001b[0m \u001b[1;33m\u001b[0m\u001b[0m\n\u001b[0;32m   1756\u001b[0m     \u001b[1;32mdef\u001b[0m \u001b[0m_save_chunk\u001b[0m\u001b[1;33m(\u001b[0m\u001b[0mself\u001b[0m\u001b[1;33m,\u001b[0m \u001b[0mstart_i\u001b[0m\u001b[1;33m,\u001b[0m \u001b[0mend_i\u001b[0m\u001b[1;33m)\u001b[0m\u001b[1;33m:\u001b[0m\u001b[1;33m\u001b[0m\u001b[0m\n",
      "\u001b[1;32mc:\\program files\\python36\\lib\\site-packages\\pandas\\io\\formats\\format.py\u001b[0m in \u001b[0;36m_save_chunk\u001b[1;34m(self, start_i, end_i)\u001b[0m\n\u001b[0;32m   1778\u001b[0m                                         quoting=self.quoting)\n\u001b[0;32m   1779\u001b[0m \u001b[1;33m\u001b[0m\u001b[0m\n\u001b[1;32m-> 1780\u001b[1;33m         \u001b[0mlib\u001b[0m\u001b[1;33m.\u001b[0m\u001b[0mwrite_csv_rows\u001b[0m\u001b[1;33m(\u001b[0m\u001b[0mself\u001b[0m\u001b[1;33m.\u001b[0m\u001b[0mdata\u001b[0m\u001b[1;33m,\u001b[0m \u001b[0mix\u001b[0m\u001b[1;33m,\u001b[0m \u001b[0mself\u001b[0m\u001b[1;33m.\u001b[0m\u001b[0mnlevels\u001b[0m\u001b[1;33m,\u001b[0m \u001b[0mself\u001b[0m\u001b[1;33m.\u001b[0m\u001b[0mcols\u001b[0m\u001b[1;33m,\u001b[0m \u001b[0mself\u001b[0m\u001b[1;33m.\u001b[0m\u001b[0mwriter\u001b[0m\u001b[1;33m)\u001b[0m\u001b[1;33m\u001b[0m\u001b[0m\n\u001b[0m\u001b[0;32m   1781\u001b[0m \u001b[1;33m\u001b[0m\u001b[0m\n\u001b[0;32m   1782\u001b[0m \u001b[1;33m\u001b[0m\u001b[0m\n",
      "\u001b[1;32mpandas\\_libs\\lib.pyx\u001b[0m in \u001b[0;36mpandas._libs.lib.write_csv_rows\u001b[1;34m()\u001b[0m\n",
      "\u001b[1;31mPermissionError\u001b[0m: [Errno 13] Permission denied"
     ]
    }
   ],
   "source": [
    "hyg.to_csv(\"hygClean.csv\")"
   ]
  }
 ],
 "metadata": {
  "kernelspec": {
   "display_name": "Python 3",
   "language": "python",
   "name": "python3"
  },
  "language_info": {
   "codemirror_mode": {
    "name": "ipython",
    "version": 3
   },
   "file_extension": ".py",
   "mimetype": "text/x-python",
   "name": "python",
   "nbconvert_exporter": "python",
   "pygments_lexer": "ipython3",
   "version": "3.6.2"
  }
 },
 "nbformat": 4,
 "nbformat_minor": 2
}
