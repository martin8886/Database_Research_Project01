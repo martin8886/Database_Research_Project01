{
 "cells": [
  {
   "cell_type": "code",
   "execution_count": 1,
   "metadata": {},
   "outputs": [],
   "source": [
    "import mysql.connector\n",
    "from mysql.connector import errorcode\n",
    "import matplotlib.pyplot as plt\n",
    "import numpy as np\n",
    "import pandas as pd\n",
    "%matplotlib inline"
   ]
  },
  {
   "cell_type": "code",
   "execution_count": 2,
   "metadata": {},
   "outputs": [],
   "source": [
    "# Connect to the database\n",
    "try:\n",
    "  conn = mysql.connector.connect(user='root', password='Drew$kiWi1kins09!',\n",
    "                              host='127.0.0.1',\n",
    "                              database='NovaDB')\n",
    "except mysql.connector.Error as err:\n",
    "  if err.errno == errorcode.ER_ACCESS_DENIED_ERROR:\n",
    "    print(\"Wrong user name or password\")\n",
    "  elif err.errno == errorcode.ER_BAD_DB_ERROR:\n",
    "    print(\"Database does not exist\")\n",
    "  else:\n",
    "    print(err)\n",
    "else:\n",
    "  conn.close()"
   ]
  },
  {
   "cell_type": "code",
   "execution_count": 3,
   "metadata": {},
   "outputs": [],
   "source": [
    "# Sample query\n",
    "conn = mysql.connector.connect(user='root', password='Drew$kiWi1kins09!', host='127.0.0.1', database='NovaDB')\n",
    "cursor = conn.cursor()\n",
    "\n",
    "query = (\"SELECT * \"\n",
    "         \"FROM Star \"\n",
    "         \"WHERE ConstellationID = 'Ori'\")\n",
    "\n",
    "cursor.execute(query)\n",
    "result = pd.DataFrame(cursor.fetchall(), columns= [\"HipparcosID\", \"HenryDraperID\", \"HarvardRevisedID\", \"GlieseID\",\n",
    "        \"BayerFlamsteed\", \"ProperName\", \"RA\", \"Dec\", \"Distance\", \"Magnitude\", \"AbsoluteMagnitude\", \"SpectralType\",\n",
    "        \"ColorIndex\", \"X\", \"Y\", \"Z\", \"RA(radians)\", \"Dec(radians)\", \"ConstellationID\", \"Luminosity\", \"CompanionID\",\n",
    "        \"PrimaryCompanionID\", \"BaseName\", \"VariableStarID\", \"VariableMinMagnitude\", \"VariableMaxMagnitude\"])\n",
    "#print(result[[\"HipparcosID\", \"HenryDraperID\", \"HarvardRevisedID\", \"GlieseID\",\n",
    "#        \"BayerFlamsteed\", \"ProperName\", \"RA\", \"Dec\", \"Distance\", \"Magnitude\", \"AbsoluteMagnitude\", \"SpectralType\",\n",
    "#        \"ColorIndex\", \"X\", \"Y\", \"Z\", \"RA(radians)\", \"Dec(radians)\", \"ConstellationID\", \"Luminosity\", \"CompanionID\",\n",
    "#        \"PrimaryCompanionID\", \"BaseName\", \"VariableStarID\", \"VariableMinMagnitude\", \"VariableMaxMagnitude\"]])\n",
    "\n",
    "#result = pd.DataFrame(cursor.fetchall(), columns= [\"ConstellationID\", \"ConstellationName\", \"Shape\"])\n",
    "#print(result[[\"ConstellationID\", \"ConstellationName\"]])\n",
    "\n",
    "cursor.close()\n",
    "conn.close()"
   ]
  },
  {
   "cell_type": "code",
   "execution_count": 4,
   "metadata": {},
   "outputs": [
    {
     "data": {
      "image/png": "[encoded data removed]",
      "text/plain": [
       "<matplotlib.figure.Figure at 0x1c02a2c8898>"
      ]
     },
     "metadata": {
      "needs_background": "light"
     },
     "output_type": "display_data"
    }
   ],
   "source": [
    "from mpl_toolkits.mplot3d import Axes3D\n",
    "\n",
    "# Define the 3D figure\n",
    "fig = plt.figure()\n",
    "ax = fig.add_subplot(111, projection='3d')\n",
    "\n",
    "# Read the data from the query as a list\n",
    "xs = list(pd.to_numeric(result[\"X\"]))[:10]\n",
    "ys = list(pd.to_numeric(result[\"Y\"]))[:10]\n",
    "zs = list(pd.to_numeric(result[\"Z\"]))[:10]\n",
    "\n",
    "# Draw the scatterplot\n",
    "ax.scatter(xs, ys, zs, c= \"w\", depthshade= False)\n",
    "\n",
    "# The axis wont be centered initially, so let's fix that.  Start by getting the max value on each dimension\n",
    "xlim = max(abs(ax.get_xlim()))\n",
    "ylim = max(abs(ax.get_ylim()))\n",
    "zlim = max(abs(ax.get_zlim()))\n",
    "# Then set the axis on each dimension such that 0 is in the middle of the max value\n",
    "ax.set_xlim(-xlim, xlim)\n",
    "ax.set_ylim(-ylim, ylim)\n",
    "ax.set_zlim(-zlim, zlim)\n",
    "\n",
    "# Draw a plane at z= 0\n",
    "xx, yy = np.meshgrid(np.arange(-xlim, xlim, 100), np.arange(-ylim, ylim, 100))\n",
    "z = xx * 0\n",
    "ax.plot_wireframe(xx, yy, z, alpha=0.5, rcount= 5, ccount= 5, colors= \"w\")\n",
    "\n",
    "\n",
    "# Draw lines from the z=0 plane to the star\n",
    "for i,j,k in zip(xs, ys, zs):\n",
    "    if (i != 0) and (j != 0) and (k != 0):\n",
    "        if k >= 0: ax.plot([i,i],[j,j],[0,k],color = 'b', alpha= .1)\n",
    "        else: ax.plot([i,i],[j,j],[0,k], color = 'r', alpha= .1)\n",
    "\n",
    "ax.set_facecolor('black')\n",
    "ax.grid(False)\n",
    "ax.set_axis_off()\n",
    "plt.show()"
   ]
  },
  {
   "cell_type": "code",
   "execution_count": null,
   "metadata": {},
   "outputs": [],
   "source": []
  }
 ],
 "metadata": {
  "kernelspec": {
   "display_name": "Python 3",
   "language": "python",
   "name": "python3"
  },
  "language_info": {
   "codemirror_mode": {
    "name": "ipython",
    "version": 3
   },
   "file_extension": ".py",
   "mimetype": "text/x-python",
   "name": "python",
   "nbconvert_exporter": "python",
   "pygments_lexer": "ipython3",
   "version": "3.6.2"
  }
 },
 "nbformat": 4,
 "nbformat_minor": 2
}
